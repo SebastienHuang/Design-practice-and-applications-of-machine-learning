{
 "cells": [
  {
   "cell_type": "code",
   "execution_count": 74,
   "metadata": {},
   "outputs": [],
   "source": [
    "import numpy as n"
   ]
  },
  {
   "cell_type": "code",
   "execution_count": 75,
   "metadata": {},
   "outputs": [
    {
     "name": "stdout",
     "output_type": "stream",
     "text": [
      "input matrix\n",
      " [[ 0.  2.  4.  6.  8. 10. 12.]\n",
      " [14. 16. 18. 20. 22. 24. 26.]\n",
      " [28. 30. 32. 34. 36. 38. 40.]\n",
      " [42. 44. 46. 48. 50. 52. 54.]\n",
      " [56. 58. 60. 62. 64. 66. 68.]\n",
      " [70. 72. 74. 76. 78. 80. 82.]\n",
      " [84. 86. 88. 90. 92. 94. 96.]]\n",
      "Result:\n",
      " [[2800. 3010. 3220. 3430. 3640.]\n",
      " [4270. 4480. 4690. 4900. 5110.]\n",
      " [5740. 5950. 6160. 6370. 6580.]\n",
      " [7210. 7420. 7630. 7840. 8050.]\n",
      " [8680. 8890. 9100. 9310. 9520.]]\n"
     ]
    }
   ],
   "source": [
    "M=np.zeros((7,7))\n",
    "conv=np.zeros((M.shape[0]-kernel.shape[0]+1,M.shape[0]-kernel.shape[0]+1))\n",
    "cache=np.zeros((3,3))\n",
    "#Create input array\n",
    "for i in range(7):\n",
    "    k=7*i\n",
    "    for j in range(7):\n",
    "        M[i][j]=2*(k+j)\n",
    "print('input matrix\\n',M)\n",
    "#Create kernel matrix\n",
    "kernel=np.array([[1,2,4],[2,4,16],[4,8,64]])\n",
    "#column1->colum5\n",
    "for i in range(M.shape[0]-kernel.shape[0]+1):\n",
    "    for j in range(M.shape[0]-kernel.shape[0]+1):\n",
    "        for ii in range(kernel.shape[0]):\n",
    "            for jj in range(kernel.shape[1]):\n",
    "                cache[ii][jj]=kernel[ii][jj]*M[i+ii][j+jj]\n",
    "                #To check:\n",
    "                #print(ii,jj,i+ii,j+jj)          \n",
    "        conv[i][j]=np.sum(cache)\n",
    "print('Result:\\n',conv)\n"
   ]
  },
  {
   "cell_type": "code",
   "execution_count": 76,
   "metadata": {},
   "outputs": [
    {
     "name": "stdout",
     "output_type": "stream",
     "text": [
      "input matrix\n",
      " [[ 0  2  4  6  8 10 12]\n",
      " [14 16 18 20 22 24 26]\n",
      " [28 30 32 34 36 38 40]\n",
      " [42 44 46 48 50 52 54]\n",
      " [56 58 60 62 64 66 68]\n",
      " [70 72 74 76 78 80 82]\n",
      " [84 86 88 90 92 94 96]]\n",
      "Result:\n",
      " [[2800. 3010. 3220. 3430. 3640.]\n",
      " [4270. 4480. 4690. 4900. 5110.]\n",
      " [5740. 5950. 6160. 6370. 6580.]\n",
      " [7210. 7420. 7630. 7840. 8050.]\n",
      " [8680. 8890. 9100. 9310. 9520.]]\n"
     ]
    }
   ],
   "source": [
    "#another way to generate matrices \n",
    "M=np.arange(0,98,2).reshape(7,7)\n",
    "print('input matrix\\n',M)\n",
    "kernel=np.array([[1,2,4],[2,4,16],[4,8,64]])\n",
    "conv=np.zeros((M.shape[0]-kernel.shape[0]+1,M.shape[0]-kernel.shape[0]+1))\n",
    "for i in range(M.shape[0]-kernel.shape[0]+1):\n",
    "    for j in range(M.shape[0]-kernel.shape[0]+1):\n",
    "        conv[i][j]=np.sum(M[i][j:j+3]*kernel[0])+np.sum(M[i+1][j:j+3]*kernel[1])+np.sum(M[i+2][j:j+3]*kernel[2])\n",
    "print('Result:\\n',conv)"
   ]
  },
  {
   "cell_type": "code",
   "execution_count": 72,
   "metadata": {},
   "outputs": [
    {
     "name": "stdout",
     "output_type": "stream",
     "text": [
      "[[ 89. 115.]\n",
      " [167. 193.]]\n"
     ]
    }
   ],
   "source": [
    "#exercise\n",
    "A=2*np.arange(9).reshape(3,3)+np.ones((3,3))\n",
    "kernel=np.array([[1,2],[4,6]])\n",
    "conv=np.zeros((A.shape[0]-kernel.shape[0]+1,A.shape[0]-kernel.shape[0]+1))\n",
    "for i in range(A.shape[0]-kernel.shape[0]+1):\n",
    "    for j in range(A.shape[0]-kernel.shape[0]+1):\n",
    "        conv[i][j]=np.sum(A[i][j:j+2]*kernel[0])+np.sum(A[i+1][j:j+2]*kernel[1])\n",
    "print(conv)"
   ]
  },
  {
   "cell_type": "code",
   "execution_count": null,
   "metadata": {},
   "outputs": [],
   "source": []
  }
 ],
 "metadata": {
  "kernelspec": {
   "display_name": "Python 3",
   "language": "python",
   "name": "python3"
  },
  "language_info": {
   "codemirror_mode": {
    "name": "ipython",
    "version": 3
   },
   "file_extension": ".py",
   "mimetype": "text/x-python",
   "name": "python",
   "nbconvert_exporter": "python",
   "pygments_lexer": "ipython3",
   "version": "3.6.7"
  }
 },
 "nbformat": 4,
 "nbformat_minor": 4
}
